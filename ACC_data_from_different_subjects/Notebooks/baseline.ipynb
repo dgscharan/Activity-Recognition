{
 "cells": [
  {
   "cell_type": "code",
   "execution_count": 1,
   "metadata": {},
   "outputs": [],
   "source": [
    "import pandas as pd\n",
    "import numpy as np\n",
    "import seaborn as sns\n",
    "import matplotlib.pyplot as plt\n",
    "import math\n",
    "import scipy.stats as stats\n",
    "from sklearn.model_selection import train_test_split"
   ]
  },
  {
   "cell_type": "code",
   "execution_count": 2,
   "metadata": {},
   "outputs": [
    {
     "name": "stderr",
     "output_type": "stream",
     "text": [
      "C:\\Users\\govindd1\\AppData\\Local\\Temp/ipykernel_8072/708278336.py:2: FutureWarning: In a future version of pandas all arguments of DataFrame.drop except for the argument 'labels' will be keyword-only\n",
      "  df = df.drop('round', 1)\n"
     ]
    },
    {
     "data": {
      "text/html": [
       "<div>\n",
       "<style scoped>\n",
       "    .dataframe tbody tr th:only-of-type {\n",
       "        vertical-align: middle;\n",
       "    }\n",
       "\n",
       "    .dataframe tbody tr th {\n",
       "        vertical-align: top;\n",
       "    }\n",
       "\n",
       "    .dataframe thead th {\n",
       "        text-align: right;\n",
       "    }\n",
       "</style>\n",
       "<table border=\"1\" class=\"dataframe\">\n",
       "  <thead>\n",
       "    <tr style=\"text-align: right;\">\n",
       "      <th></th>\n",
       "      <th>datetime</th>\n",
       "      <th>acc_x</th>\n",
       "      <th>acc_y</th>\n",
       "      <th>acc_z</th>\n",
       "      <th>subject_id</th>\n",
       "      <th>type</th>\n",
       "      <th>label</th>\n",
       "    </tr>\n",
       "  </thead>\n",
       "  <tbody>\n",
       "    <tr>\n",
       "      <th>0</th>\n",
       "      <td>2021-12-08 14:50:11+00:00</td>\n",
       "      <td>-6</td>\n",
       "      <td>22</td>\n",
       "      <td>62</td>\n",
       "      <td>3</td>\n",
       "      <td>InMotion</td>\n",
       "      <td>downstairs</td>\n",
       "    </tr>\n",
       "    <tr>\n",
       "      <th>1</th>\n",
       "      <td>2021-12-08 14:50:11.031250+00:00</td>\n",
       "      <td>-7</td>\n",
       "      <td>20</td>\n",
       "      <td>61</td>\n",
       "      <td>3</td>\n",
       "      <td>InMotion</td>\n",
       "      <td>downstairs</td>\n",
       "    </tr>\n",
       "    <tr>\n",
       "      <th>2</th>\n",
       "      <td>2021-12-08 14:50:11.062500+00:00</td>\n",
       "      <td>-7</td>\n",
       "      <td>18</td>\n",
       "      <td>59</td>\n",
       "      <td>3</td>\n",
       "      <td>InMotion</td>\n",
       "      <td>downstairs</td>\n",
       "    </tr>\n",
       "    <tr>\n",
       "      <th>3</th>\n",
       "      <td>2021-12-08 14:50:11.093750+00:00</td>\n",
       "      <td>-8</td>\n",
       "      <td>16</td>\n",
       "      <td>58</td>\n",
       "      <td>3</td>\n",
       "      <td>InMotion</td>\n",
       "      <td>downstairs</td>\n",
       "    </tr>\n",
       "    <tr>\n",
       "      <th>4</th>\n",
       "      <td>2021-12-08 14:50:11.125000+00:00</td>\n",
       "      <td>-7</td>\n",
       "      <td>16</td>\n",
       "      <td>57</td>\n",
       "      <td>3</td>\n",
       "      <td>InMotion</td>\n",
       "      <td>downstairs</td>\n",
       "    </tr>\n",
       "  </tbody>\n",
       "</table>\n",
       "</div>"
      ],
      "text/plain": [
       "                           datetime  acc_x  acc_y  acc_z  subject_id  \\\n",
       "0         2021-12-08 14:50:11+00:00     -6     22     62           3   \n",
       "1  2021-12-08 14:50:11.031250+00:00     -7     20     61           3   \n",
       "2  2021-12-08 14:50:11.062500+00:00     -7     18     59           3   \n",
       "3  2021-12-08 14:50:11.093750+00:00     -8     16     58           3   \n",
       "4  2021-12-08 14:50:11.125000+00:00     -7     16     57           3   \n",
       "\n",
       "       type       label  \n",
       "0  InMotion  downstairs  \n",
       "1  InMotion  downstairs  \n",
       "2  InMotion  downstairs  \n",
       "3  InMotion  downstairs  \n",
       "4  InMotion  downstairs  "
      ]
     },
     "execution_count": 2,
     "metadata": {},
     "output_type": "execute_result"
    }
   ],
   "source": [
    "df = pd.read_csv('C:/Users/govindd1/Desktop/Code/VR-Project/ACC_data_from_different_subjects/E4_ACC_data_3.csv')\n",
    "df = df.drop('round', 1)\n",
    "df.head()"
   ]
  },
  {
   "cell_type": "code",
   "execution_count": 3,
   "metadata": {},
   "outputs": [
    {
     "data": {
      "image/png": "[encoded data removed]",
      "text/plain": [
       "<Figure size 1152x576 with 1 Axes>"
      ]
     },
     "metadata": {
      "needs_background": "light"
     },
     "output_type": "display_data"
    }
   ],
   "source": [
    "plt.figure(figsize=(16,8))\n",
    "plt.title('Data provided by each user', fontsize=20)\n",
    "sns.countplot(x='subject_id',hue='label', data = df)\n",
    "plt.show()"
   ]
  },
  {
   "cell_type": "code",
   "execution_count": 15,
   "metadata": {},
   "outputs": [
    {
     "data": {
      "text/html": [
       "<div>\n",
       "<style scoped>\n",
       "    .dataframe tbody tr th:only-of-type {\n",
       "        vertical-align: middle;\n",
       "    }\n",
       "\n",
       "    .dataframe tbody tr th {\n",
       "        vertical-align: top;\n",
       "    }\n",
       "\n",
       "    .dataframe thead th {\n",
       "        text-align: right;\n",
       "    }\n",
       "</style>\n",
       "<table border=\"1\" class=\"dataframe\">\n",
       "  <thead>\n",
       "    <tr style=\"text-align: right;\">\n",
       "      <th></th>\n",
       "      <th>datetime</th>\n",
       "      <th>acc_x</th>\n",
       "      <th>acc_y</th>\n",
       "      <th>acc_z</th>\n",
       "      <th>subject_id</th>\n",
       "      <th>type</th>\n",
       "      <th>label</th>\n",
       "      <th>activity</th>\n",
       "      <th>type_encoded</th>\n",
       "    </tr>\n",
       "  </thead>\n",
       "  <tbody>\n",
       "    <tr>\n",
       "      <th>0</th>\n",
       "      <td>2021-12-08 14:50:11+00:00</td>\n",
       "      <td>-6</td>\n",
       "      <td>22</td>\n",
       "      <td>62</td>\n",
       "      <td>3</td>\n",
       "      <td>InMotion</td>\n",
       "      <td>downstairs</td>\n",
       "      <td>0</td>\n",
       "      <td>0</td>\n",
       "    </tr>\n",
       "    <tr>\n",
       "      <th>1</th>\n",
       "      <td>2021-12-08 14:50:11.031250+00:00</td>\n",
       "      <td>-7</td>\n",
       "      <td>20</td>\n",
       "      <td>61</td>\n",
       "      <td>3</td>\n",
       "      <td>InMotion</td>\n",
       "      <td>downstairs</td>\n",
       "      <td>0</td>\n",
       "      <td>0</td>\n",
       "    </tr>\n",
       "    <tr>\n",
       "      <th>2</th>\n",
       "      <td>2021-12-08 14:50:11.062500+00:00</td>\n",
       "      <td>-7</td>\n",
       "      <td>18</td>\n",
       "      <td>59</td>\n",
       "      <td>3</td>\n",
       "      <td>InMotion</td>\n",
       "      <td>downstairs</td>\n",
       "      <td>0</td>\n",
       "      <td>0</td>\n",
       "    </tr>\n",
       "    <tr>\n",
       "      <th>3</th>\n",
       "      <td>2021-12-08 14:50:11.093750+00:00</td>\n",
       "      <td>-8</td>\n",
       "      <td>16</td>\n",
       "      <td>58</td>\n",
       "      <td>3</td>\n",
       "      <td>InMotion</td>\n",
       "      <td>downstairs</td>\n",
       "      <td>0</td>\n",
       "      <td>0</td>\n",
       "    </tr>\n",
       "    <tr>\n",
       "      <th>4</th>\n",
       "      <td>2021-12-08 14:50:11.125000+00:00</td>\n",
       "      <td>-7</td>\n",
       "      <td>16</td>\n",
       "      <td>57</td>\n",
       "      <td>3</td>\n",
       "      <td>InMotion</td>\n",
       "      <td>downstairs</td>\n",
       "      <td>0</td>\n",
       "      <td>0</td>\n",
       "    </tr>\n",
       "    <tr>\n",
       "      <th>...</th>\n",
       "      <td>...</td>\n",
       "      <td>...</td>\n",
       "      <td>...</td>\n",
       "      <td>...</td>\n",
       "      <td>...</td>\n",
       "      <td>...</td>\n",
       "      <td>...</td>\n",
       "      <td>...</td>\n",
       "      <td>...</td>\n",
       "    </tr>\n",
       "    <tr>\n",
       "      <th>14875</th>\n",
       "      <td>2021-12-09 03:01:44.718750+00:00</td>\n",
       "      <td>-14</td>\n",
       "      <td>3</td>\n",
       "      <td>61</td>\n",
       "      <td>8</td>\n",
       "      <td>MotionLess</td>\n",
       "      <td>sitting</td>\n",
       "      <td>1</td>\n",
       "      <td>1</td>\n",
       "    </tr>\n",
       "    <tr>\n",
       "      <th>14876</th>\n",
       "      <td>2021-12-09 03:01:44.750000+00:00</td>\n",
       "      <td>-14</td>\n",
       "      <td>3</td>\n",
       "      <td>61</td>\n",
       "      <td>8</td>\n",
       "      <td>MotionLess</td>\n",
       "      <td>sitting</td>\n",
       "      <td>1</td>\n",
       "      <td>1</td>\n",
       "    </tr>\n",
       "    <tr>\n",
       "      <th>14877</th>\n",
       "      <td>2021-12-09 03:01:44.781250+00:00</td>\n",
       "      <td>-14</td>\n",
       "      <td>3</td>\n",
       "      <td>61</td>\n",
       "      <td>8</td>\n",
       "      <td>MotionLess</td>\n",
       "      <td>sitting</td>\n",
       "      <td>1</td>\n",
       "      <td>1</td>\n",
       "    </tr>\n",
       "    <tr>\n",
       "      <th>14878</th>\n",
       "      <td>2021-12-09 03:01:44.812500+00:00</td>\n",
       "      <td>-14</td>\n",
       "      <td>4</td>\n",
       "      <td>61</td>\n",
       "      <td>8</td>\n",
       "      <td>MotionLess</td>\n",
       "      <td>sitting</td>\n",
       "      <td>1</td>\n",
       "      <td>1</td>\n",
       "    </tr>\n",
       "    <tr>\n",
       "      <th>14879</th>\n",
       "      <td>2021-12-09 03:01:44.843750+00:00</td>\n",
       "      <td>-15</td>\n",
       "      <td>4</td>\n",
       "      <td>61</td>\n",
       "      <td>8</td>\n",
       "      <td>MotionLess</td>\n",
       "      <td>sitting</td>\n",
       "      <td>1</td>\n",
       "      <td>1</td>\n",
       "    </tr>\n",
       "  </tbody>\n",
       "</table>\n",
       "<p>14880 rows × 9 columns</p>\n",
       "</div>"
      ],
      "text/plain": [
       "                               datetime  acc_x  acc_y  acc_z  subject_id  \\\n",
       "0             2021-12-08 14:50:11+00:00     -6     22     62           3   \n",
       "1      2021-12-08 14:50:11.031250+00:00     -7     20     61           3   \n",
       "2      2021-12-08 14:50:11.062500+00:00     -7     18     59           3   \n",
       "3      2021-12-08 14:50:11.093750+00:00     -8     16     58           3   \n",
       "4      2021-12-08 14:50:11.125000+00:00     -7     16     57           3   \n",
       "...                                 ...    ...    ...    ...         ...   \n",
       "14875  2021-12-09 03:01:44.718750+00:00    -14      3     61           8   \n",
       "14876  2021-12-09 03:01:44.750000+00:00    -14      3     61           8   \n",
       "14877  2021-12-09 03:01:44.781250+00:00    -14      3     61           8   \n",
       "14878  2021-12-09 03:01:44.812500+00:00    -14      4     61           8   \n",
       "14879  2021-12-09 03:01:44.843750+00:00    -15      4     61           8   \n",
       "\n",
       "             type       label  activity  type_encoded  \n",
       "0        InMotion  downstairs         0             0  \n",
       "1        InMotion  downstairs         0             0  \n",
       "2        InMotion  downstairs         0             0  \n",
       "3        InMotion  downstairs         0             0  \n",
       "4        InMotion  downstairs         0             0  \n",
       "...           ...         ...       ...           ...  \n",
       "14875  MotionLess     sitting         1             1  \n",
       "14876  MotionLess     sitting         1             1  \n",
       "14877  MotionLess     sitting         1             1  \n",
       "14878  MotionLess     sitting         1             1  \n",
       "14879  MotionLess     sitting         1             1  \n",
       "\n",
       "[14880 rows x 9 columns]"
      ]
     },
     "execution_count": 15,
     "metadata": {},
     "output_type": "execute_result"
    }
   ],
   "source": [
    "from sklearn.preprocessing import LabelEncoder\n",
    "label = LabelEncoder()\n",
    "# df['activity'] = label.fit_transform(df['label'])\n",
    "df['type_encoded'] = label.fit_transform(df['type'])\n",
    "label.classes_\n",
    "df"
   ]
  },
  {
   "cell_type": "code",
   "execution_count": 16,
   "metadata": {},
   "outputs": [
    {
     "data": {
      "text/plain": [
       "array([[-0.62591995,  0.17729949, -0.08863181],\n",
       "       [-0.52905976,  0.6644736 ,  0.94047047],\n",
       "       [ 0.63326258, -0.62841153, -0.41607344],\n",
       "       ...,\n",
       "       [ 1.69872473, -1.2467479 , -2.2871685 ],\n",
       "       [ 0.43954219, -0.60967407, -0.18218656],\n",
       "       [ 0.2458218 , -0.66588646, -0.08863181]])"
      ]
     },
     "execution_count": 16,
     "metadata": {},
     "output_type": "execute_result"
    }
   ],
   "source": [
    "from sklearn.preprocessing import StandardScaler\n",
    "\n",
    "X = df[['acc_x', 'acc_y', 'acc_z']]\n",
    "# y = df['activity']\n",
    "y = df['type_encoded']\n",
    "scaler = StandardScaler()\n",
    "X = scaler.fit_transform(X)\n",
    "\n",
    "from sklearn.model_selection import train_test_split\n",
    "X_train, X_test, y_train, y_test = train_test_split(X, y, test_size=0.2)\n",
    "\n",
    "# # scaled_X = pd.DataFrame(data = X, columns = ['accXmean',\t'accYmean',\t'accZmean',\t'accXstd',\t'accYstd',\t'accZstd',\t'MagnitudeMean', 'covXYmean',\t'covYZmean',\t'covXZmean'])\n",
    "# from sklearn.model_selection import train_test_split\n",
    "# X_train, X_test, y_train, y_test = train_test_split(X, y, test_size=0.2)\n",
    "X_train"
   ]
  },
  {
   "cell_type": "code",
   "execution_count": 17,
   "metadata": {},
   "outputs": [
    {
     "name": "stdout",
     "output_type": "stream",
     "text": [
      "Accuracy: 0.9516129032258065\n",
      "\n",
      " ------------------------------------------ RandomForestClassifier() Classification Report-------------------------------------------------\n",
      "\n",
      "              precision    recall  f1-score   support\n",
      "\n",
      "           0       0.95      0.98      0.97      2172\n",
      "           1       0.94      0.87      0.91       804\n",
      "\n",
      "    accuracy                           0.95      2976\n",
      "   macro avg       0.95      0.93      0.94      2976\n",
      "weighted avg       0.95      0.95      0.95      2976\n",
      "\n",
      " ------------------------------------------------------  Confusion Matrix ----------------------------------------------------------\n"
     ]
    },
    {
     "data": {
      "image/png": "[encoded data removed]",
      "text/plain": [
       "<Figure size 432x288 with 2 Axes>"
      ]
     },
     "metadata": {
      "needs_background": "light"
     },
     "output_type": "display_data"
    },
    {
     "name": "stdout",
     "output_type": "stream",
     "text": [
      "----------------------------------------------  RandomForestClassifier() K-Fold Report  ------------------------------------------------------ \n",
      "\n",
      " * Results: [0.94959677 0.95497312 0.95396505 0.96068548]\n",
      "\n",
      " * Average acuracy: 0.9548051075268817 \n",
      "\n",
      "<--------------------------------------------------------   END   ------------------------------------------------------------------>\n"
     ]
    }
   ],
   "source": [
    "from sklearn.metrics import classification_report\n",
    "from sklearn.metrics import confusion_matrix\n",
    "from sklearn.neighbors import KNeighborsClassifier\n",
    "from sklearn.svm import SVC, LinearSVC, NuSVC\n",
    "from sklearn.tree import DecisionTreeClassifier\n",
    "from sklearn.ensemble import RandomForestClassifier, AdaBoostClassifier, GradientBoostingClassifier\n",
    "from sklearn.discriminant_analysis import LinearDiscriminantAnalysis\n",
    "from sklearn.discriminant_analysis import QuadraticDiscriminantAnalysis\n",
    "from sklearn.model_selection import cross_val_score\n",
    "from sklearn.metrics import accuracy_score\n",
    "\n",
    "\n",
    "\n",
    "classifiers = [\n",
    "# KNeighborsClassifier(3),\n",
    "# SVC(kernel=\"rbf\", C=0.025, probability=True)\n",
    "# NuSVC(probability=True),\n",
    "RandomForestClassifier()\n",
    "# DecisionTreeClassifier()\n",
    "# AdaBoostClassifier()\n",
    "# GradientBoostingClassifier()\n",
    "]\n",
    "for classifier in classifiers:\n",
    "# pipe = Pipeline(steps=[('preprocessor', preprocessor),\n",
    "#                   ('classifier', classifier)])\n",
    "# pipe.fit(X_train, y_train)   \n",
    "    classifier.fit(X_train, y_train)\n",
    "    y_pred = classifier.predict(X_test)\n",
    "    print(\"Accuracy:\", accuracy_score(y_test, y_pred))\n",
    "    print(\"\\n ------------------------------------------\", classifier , \"Classification Report-------------------------------------------------\\n\")\n",
    "    print(classification_report(y_test, y_pred))    \n",
    "\n",
    "\n",
    "# K-Fold \n",
    "kfold = 4\n",
    "results = cross_val_score(classifier, X_train, y_train, cv=kfold)\n",
    "\n",
    "\n",
    "print(\" ------------------------------------------------------  Confusion Matrix ----------------------------------------------------------\")\n",
    "# labels = ['walking', 'sitting',  'upstairs', 'downstairs']\n",
    "labels = ['MotionLess', 'InMotion']\n",
    "_y_test = y_test\n",
    "_y_pred = y_pred\n",
    "confusion_matrix = confusion_matrix(_y_test, _y_pred)\n",
    "confusion_matrix = confusion_matrix.astype('float') / confusion_matrix.sum(axis=1)[:, np.newaxis]\n",
    "sns.heatmap(confusion_matrix, xticklabels=labels, yticklabels=labels, annot=True,linewidths = 0.1, cmap = \"YlGnBu\")\n",
    "plt.title(\"Confusion matrix\", fontsize = 15)\n",
    "plt.ylabel(\"True label\")\n",
    "plt.xlabel(\"Predicted label\")\n",
    "plt.show()\n",
    "\n",
    "# print(\" ------------------------------------------------------ AUC SCORE -------------------------------------------------------------------\")\n",
    "# skplt.metrics.plot_roc_curve(y_test, y_pred)\n",
    "# plt.show()\n",
    "    \n",
    "print(\"---------------------------------------------- \", classifier , \"K-Fold Report  ------------------------------------------------------\", \"\\n\")\n",
    "# print(\"model score: %.3f\" % pipe.score(X_test, y_test))\n",
    "# print('------------------------------------   REPORT   ----------------------------------', \"\\n\")\n",
    "print(' * Results: {}'.format(results))\n",
    "print('\\n * Average acuracy: {}'.format(np.mean(results)), \"\\n\")\n",
    "\n",
    "print('<--------------------------------------------------------   END   ------------------------------------------------------------------>')"
   ]
  },
  {
   "cell_type": "code",
   "execution_count": 19,
   "metadata": {},
   "outputs": [
    {
     "data": {
      "text/plain": [
       "array([0, 0, 0, ..., 0, 0, 0])"
      ]
     },
     "execution_count": 19,
     "metadata": {},
     "output_type": "execute_result"
    }
   ],
   "source": [
    "y_pred\n"
   ]
  },
  {
   "cell_type": "code",
   "execution_count": 18,
   "metadata": {},
   "outputs": [
    {
     "name": "stdout",
     "output_type": "stream",
     "text": [
      "Area Under the Curve Score :  0.9738551143912116\n"
     ]
    },
    {
     "data": {
      "image/png": "[encoded data removed]",
      "text/plain": [
       "<Figure size 800x800 with 1 Axes>"
      ]
     },
     "metadata": {
      "needs_background": "light"
     },
     "output_type": "display_data"
    }
   ],
   "source": [
    "\n",
    "from sklearn.metrics import roc_auc_score, roc_curve, auc\n",
    "\n",
    "y_pred_probabilty = classifier.predict_proba(X_test)\n",
    "print(\"Area Under the Curve Score : \", roc_auc_score(y_test, y_pred_probabilty[:,1]))\n",
    "\n",
    "\n",
    "fpr, tpr, threshold = roc_curve(y_test, y_pred_probabilty[:,1])\n",
    "auc = auc(fpr, tpr)\n",
    "\n",
    "plt.figure(figsize=(8,8), dpi = 100)\n",
    "plt.plot(fpr, tpr, linestyle = ':', label = 'AUC')\n",
    "\n",
    "plt.xlabel(\"false positive rate\")\n",
    "plt.ylabel(\"True positive rate\")\n",
    "plt.legend()\n",
    "plt.show()\n",
    "\n",
    "\n"
   ]
  },
  {
   "cell_type": "code",
   "execution_count": null,
   "metadata": {},
   "outputs": [],
   "source": []
  },
  {
   "cell_type": "code",
   "execution_count": null,
   "metadata": {},
   "outputs": [],
   "source": [
    "\n"
   ]
  },
  {
   "cell_type": "code",
   "execution_count": null,
   "metadata": {},
   "outputs": [],
   "source": [
    "\n",
    "\n"
   ]
  },
  {
   "cell_type": "code",
   "execution_count": null,
   "metadata": {},
   "outputs": [],
   "source": [
    "\n",
    "\n",
    "from sklearn.metrics import roc_auc_score, roc_curve, auc\n",
    "from sklearn.metrics import confusion_matrix, accuracy_score, f1_score\n",
    "\n",
    "subject_ids = list(df.subject_id.unique())\n",
    "subject_ids\n",
    "\n",
    "LOOCV_accuracy = []\n",
    "LOOCV_f1 = []\n",
    "y_preds = []\n",
    "y_tests = []\n",
    "\n",
    "\n",
    "\n",
    "for subject in subject_ids:\n",
    "    test = df.loc[df['subject_id']==subject]\n",
    "    train = df.loc[df['subject_id']!=subject]\n",
    "    \n",
    "    \n",
    "    train = train[['acc_x',\t'acc_y', 'acc_z',\t'activity']]\n",
    "    test = test[['acc_x',\t'acc_y', 'acc_z',\t'activity']]\n",
    "    \n",
    "    X_train = train.iloc[:, :-1].values\n",
    "    y_train = train.iloc[:, -1].values\n",
    "    X_test = test.iloc[:, :-1].values\n",
    "    y_test = test.iloc[:, -1].values\n",
    "    \n",
    "    sc = StandardScaler()\n",
    "    X_train = sc.fit_transform(X_train)\n",
    "    X_test = sc.transform(X_test)\n",
    "    \n",
    "    #Random Forest model\n",
    "    clf = RandomForestClassifier(n_estimators=750,\n",
    "    random_state=1337,\n",
    "    max_depth=25,\n",
    "    min_samples_leaf=1, class_weight='balanced_subsample' )\n",
    "    \n",
    "    #Fit and Predict using RF model\n",
    "    clf.fit(X_train, y_train)\n",
    "    y_pred = clf.predict(X_test)\n",
    "    y_preds = y_pred\n",
    "    y_tests = y_test\n",
    "    #Print Accuracy Score\n",
    "    print('Completed LOOCV for Subject ', +  subject)\n",
    "    \n",
    "    LOOCV_accuracy.append(accuracy_score(y_test, y_pred))\n",
    "    LOOCV_f1.append(f1_score(y_test, y_pred,average='weighted'))\n",
    "    \n",
    "    \n",
    "    "
   ]
  },
  {
   "cell_type": "code",
   "execution_count": null,
   "metadata": {},
   "outputs": [],
   "source": [
    "LOOCV_accuracy\n"
   ]
  },
  {
   "cell_type": "code",
   "execution_count": null,
   "metadata": {},
   "outputs": [],
   "source": [
    "group_by_label = df.groupby(by=['subject_id'])\n",
    "gpdf3 = group_by_label.get_group(3)"
   ]
  },
  {
   "cell_type": "code",
   "execution_count": null,
   "metadata": {},
   "outputs": [],
   "source": [
    "gpdf3"
   ]
  },
  {
   "cell_type": "code",
   "execution_count": null,
   "metadata": {},
   "outputs": [],
   "source": []
  },
  {
   "cell_type": "code",
   "execution_count": null,
   "metadata": {},
   "outputs": [],
   "source": [
    "plt.figure(figsize=(16,8))\n",
    "plt.title('Data provided by each user', fontsize=20)\n",
    "sns.countplot(x='subject_id',hue='label', data = gpdf3)\n",
    "plt.show()"
   ]
  },
  {
   "cell_type": "code",
   "execution_count": null,
   "metadata": {},
   "outputs": [],
   "source": [
    "X = gpdf3[['acc_x', 'acc_y', 'acc_z']]\n",
    "y = gpdf3['label']\n",
    "\n",
    "from imblearn.over_sampling import SMOTE\n",
    "from matplotlib import pyplot\n",
    "from collections import Counter\n",
    "\n",
    "\n",
    "y = LabelEncoder().fit_transform(y)\n",
    "# transform the dataset\n",
    "oversample = SMOTE()\n",
    "X, y = oversample.fit_resample(X, y)\n",
    "# summarize distribution\n",
    "counter = Counter(y)\n",
    "for k,v in counter.items():\n",
    "\tper = v / len(y) * 100\n",
    "\tprint('Class=%d, n=%d (%.3f%%)' % (k, v, per))\n",
    "# plot the distribution\n",
    "pyplot.bar(counter.keys(), counter.values())\n",
    "pyplot.show()\n"
   ]
  },
  {
   "cell_type": "code",
   "execution_count": null,
   "metadata": {},
   "outputs": [],
   "source": [
    "group_by_label = df.groupby(by=['subject_id'])\n",
    "gpdf6 = group_by_label.get_group(6)\n",
    "# gpdf6\n",
    "plt.figure(figsize=(16,8))\n",
    "plt.title('Data provided by each user', fontsize=20)\n",
    "sns.countplot(x='subject_id',hue='label', data = gpdf6)\n",
    "X = gpdf6[['acc_x', 'acc_y', 'acc_z']]\n",
    "y = gpdf6['label']\n",
    "\n",
    "from imblearn.over_sampling import SMOTE\n",
    "from matplotlib import pyplot\n",
    "from collections import Counter\n",
    "\n",
    "\n",
    "y = LabelEncoder().fit_transform(y)\n",
    "# transform the dataset\n",
    "oversample = SMOTE()\n",
    "X, y = oversample.fit_resample(X, y)\n",
    "# summarize distribution\n",
    "counter = Counter(y)\n",
    "for k,v in counter.items():\n",
    "\tper = v / len(y) * 100\n",
    "\tprint('Class=%d, n=%d (%.3f%%)' % (k, v, per))\n",
    "# plot the distribution\n",
    "pyplot.bar(counter.keys(), counter.values())\n",
    "pyplot.show()\n",
    "plt.show()"
   ]
  },
  {
   "cell_type": "code",
   "execution_count": null,
   "metadata": {},
   "outputs": [],
   "source": [
    "group_by_label = df.groupby(by=['subject_id'])\n",
    "gpdf7 = group_by_label.get_group(7)\n",
    "# gpdf7\n",
    "plt.figure(figsize=(16,8))\n",
    "plt.title('Data provided by each user', fontsize=20)\n",
    "sns.countplot(x='subject_id',hue='label', data = gpdf7)\n",
    "X = gpdf7[['acc_x', 'acc_y', 'acc_z']]\n",
    "y = gpdf7['label']\n",
    "\n",
    "from imblearn.over_sampling import SMOTE\n",
    "from matplotlib import pyplot\n",
    "from collections import Counter\n",
    "\n",
    "\n",
    "y = LabelEncoder().fit_transform(y)\n",
    "# transform the dataset\n",
    "oversample = SMOTE()\n",
    "X, y = oversample.fit_resample(X, y)\n",
    "# summarize distribution\n",
    "counter = Counter(y)\n",
    "for k,v in counter.items():\n",
    "\tper = v / len(y) * 100\n",
    "\tprint('Class=%d, n=%d (%.3f%%)' % (k, v, per))\n",
    "# plot the distribution\n",
    "pyplot.bar(counter.keys(), counter.values())\n",
    "pyplot.show()\n",
    "plt.show()"
   ]
  },
  {
   "cell_type": "code",
   "execution_count": null,
   "metadata": {},
   "outputs": [],
   "source": [
    "group_by_label = df.groupby(by=['subject_id'])\n",
    "gpdf8 = group_by_label.get_group(8)\n",
    "plt.figure(figsize=(16,8))\n",
    "plt.title('Data provided by each user', fontsize=20)\n",
    "sns.countplot(x='subject_id',hue='label', data = gpdf8)\n",
    "X = gpdf8[['acc_x', 'acc_y', 'acc_z']]\n",
    "y = gpdf8['label']\n",
    "\n",
    "from imblearn.over_sampling import SMOTE\n",
    "from matplotlib import pyplot\n",
    "from collections import Counter\n",
    "\n",
    "\n",
    "y = LabelEncoder().fit_transform(y)\n",
    "# transform the dataset\n",
    "oversample = SMOTE()\n",
    "X, y = oversample.fit_resample(X, y)\n",
    "# summarize distribution\n",
    "counter = Counter(y)\n",
    "for k,v in counter.items():\n",
    "\tper = v / len(y) * 100\n",
    "\tprint('Class=%d, n=%d (%.3f%%)' % (k, v, per))\n",
    "# plot the distribution\n",
    "pyplot.bar(counter.keys(), counter.values())\n",
    "pyplot.show()\n",
    "plt.show()"
   ]
  },
  {
   "cell_type": "code",
   "execution_count": null,
   "metadata": {},
   "outputs": [],
   "source": [
    "frames = [gpdf6, gpdf3, gpdf7, gpdf8]\n",
    "df3 = pd.concat(frames)\n",
    "df3"
   ]
  },
  {
   "cell_type": "code",
   "execution_count": null,
   "metadata": {},
   "outputs": [],
   "source": [
    "df3.subject_id.value_counts()"
   ]
  },
  {
   "cell_type": "code",
   "execution_count": null,
   "metadata": {},
   "outputs": [],
   "source": [
    "from sklearn.preprocessing import StandardScaler\n",
    "\n",
    "X = df3[['acc_x', 'acc_y', 'acc_z']]\n",
    "y = df3['activity']\n",
    "scaler = StandardScaler()\n",
    "X = scaler.fit_transform(X)\n",
    "\n",
    "from sklearn.model_selection import train_test_split\n",
    "X_train, X_test, y_train, y_test = train_test_split(X, y, test_size=0.2)\n",
    "\n",
    "# # scaled_X = pd.DataFrame(data = X, columns = ['accXmean',\t'accYmean',\t'accZmean',\t'accXstd',\t'accYstd',\t'accZstd',\t'MagnitudeMean', 'covXYmean',\t'covYZmean',\t'covXZmean'])\n",
    "# from sklearn.model_selection import train_test_split\n",
    "# X_train, X_test, y_train, y_test = train_test_split(X, y, test_size=0.2)\n",
    "X_train"
   ]
  },
  {
   "cell_type": "code",
   "execution_count": null,
   "metadata": {},
   "outputs": [],
   "source": [
    "from sklearn.metrics import classification_report\n",
    "from sklearn.metrics import confusion_matrix\n",
    "from sklearn.neighbors import KNeighborsClassifier\n",
    "from sklearn.svm import SVC, LinearSVC, NuSVC\n",
    "from sklearn.tree import DecisionTreeClassifier\n",
    "from sklearn.ensemble import RandomForestClassifier, AdaBoostClassifier, GradientBoostingClassifier\n",
    "from sklearn.discriminant_analysis import LinearDiscriminantAnalysis\n",
    "from sklearn.discriminant_analysis import QuadraticDiscriminantAnalysis\n",
    "from sklearn.model_selection import cross_val_score\n",
    "from sklearn.metrics import accuracy_score\n",
    "\n",
    "\n",
    "\n",
    "classifiers = [\n",
    "# KNeighborsClassifier(3),\n",
    "# SVC(kernel=\"rbf\", C=0.025, probability=True)\n",
    "# NuSVC(probability=True),\n",
    "RandomForestClassifier()\n",
    "# DecisionTreeClassifier()\n",
    "# AdaBoostClassifier()\n",
    "# GradientBoostingClassifier()\n",
    "]\n",
    "for classifier in classifiers:\n",
    "# pipe = Pipeline(steps=[('preprocessor', preprocessor),\n",
    "#                   ('classifier', classifier)])\n",
    "# pipe.fit(X_train, y_train)   \n",
    "    classifier.fit(X_train, y_train)\n",
    "    y_pred = classifier.predict(X_test)\n",
    "    print(\"Accuracy:\", accuracy_score(y_test, y_pred))\n",
    "    print(\"\\n ------------------------------------------\", classifier , \"Classification Report-------------------------------------------------\\n\")\n",
    "    print(classification_report(y_test, y_pred))    \n",
    "\n",
    "\n",
    "# K-Fold \n",
    "kfold = 4\n",
    "results = cross_val_score(classifier, X_train, y_train, cv=kfold)\n",
    "\n",
    "\n",
    "print(\" ------------------------------------------------------  Confusion Matrix ----------------------------------------------------------\")\n",
    "# labels = ['walking', 'sitting', 'standing', 'upstairs', 'downstairs']\n",
    "labels = ['MotionLess', 'InMotion']\n",
    "_y_test = y_test\n",
    "_y_pred = y_pred\n",
    "confusion_matrix = confusion_matrix(_y_test, _y_pred)\n",
    "confusion_matrix = confusion_matrix.astype('float') / confusion_matrix.sum(axis=1)[:, np.newaxis]\n",
    "sns.heatmap(confusion_matrix, xticklabels=labels, yticklabels=labels, annot=True,linewidths = 0.1, cmap = \"YlGnBu\")\n",
    "plt.title(\"Confusion matrix\", fontsize = 15)\n",
    "plt.ylabel(\"True label\")\n",
    "plt.xlabel(\"Predicted label\")\n",
    "plt.show()\n",
    "\n",
    "# print(\" ------------------------------------------------------ AUC SCORE -------------------------------------------------------------------\")\n",
    "# skplt.metrics.plot_roc_curve(y_test, y_pred)\n",
    "# plt.show()\n",
    "    \n",
    "print(\"---------------------------------------------- \", classifier , \"K-Fold Report  ------------------------------------------------------\", \"\\n\")\n",
    "# print(\"model score: %.3f\" % pipe.score(X_test, y_test))\n",
    "# print('------------------------------------   REPORT   ----------------------------------', \"\\n\")\n",
    "print(' * Results: {}'.format(results))\n",
    "print('\\n * Average acuracy: {}'.format(np.mean(results)), \"\\n\")\n",
    "\n",
    "print('<--------------------------------------------------------   END   ------------------------------------------------------------------>')"
   ]
  },
  {
   "cell_type": "code",
   "execution_count": null,
   "metadata": {},
   "outputs": [],
   "source": [
    "y_pred_probabilty = classifier.predict_proba(X_test)\n",
    "print(roc_auc_score(y_test, y_pred_probabilty[:,1]))\n",
    "\n",
    "\n",
    "from sklearn.metrics import roc_auc_score, roc_curve, auc\n",
    "\n",
    "fpr, tpr, threshold = roc_curve(y_test, y_pred_probabilty[:,1])\n",
    "auc = auc(fpr, tpr)\n",
    "\n",
    "plt.figure(figsize=(8,8), dpi = 100)\n",
    "plt.plot(fpr, tpr, linestyle = ':', label = 'AUC')\n",
    "\n",
    "plt.xlabel(\"false positive rate\")\n",
    "plt.ylabel(\"True positive rate\")\n",
    "plt.legend()\n",
    "plt.show()"
   ]
  },
  {
   "cell_type": "code",
   "execution_count": null,
   "metadata": {},
   "outputs": [],
   "source": [
    "from sklearn.metrics import roc_auc_score, roc_curve, auc\n",
    "from sklearn.metrics import confusion_matrix, accuracy_score, f1_score\n",
    "\n",
    "subject_ids = list(df3.subject_id.unique())\n",
    "subject_ids\n",
    "\n",
    "LOOCV_accuracy = []\n",
    "LOOCV_f1 = []\n",
    "y_preds = []\n",
    "y_tests = []\n",
    "\n",
    "\n",
    "\n",
    "for subject in subject_ids:\n",
    "    test = df3.loc[df3['subject_id']==subject]\n",
    "    train = df3.loc[df3['subject_id']!=subject]\n",
    "    \n",
    "    \n",
    "    train = train[['acc_x',\t'acc_y', 'acc_z',\t'activity']]\n",
    "    test = test[['acc_x',\t'acc_y', 'acc_z',\t'activity']]\n",
    "    \n",
    "    X_train = train.iloc[:, :-1].values\n",
    "    y_train = train.iloc[:, -1].values\n",
    "    X_test = test.iloc[:, :-1].values\n",
    "    y_test = test.iloc[:, -1].values\n",
    "    \n",
    "    sc = StandardScaler()\n",
    "    X_train = sc.fit_transform(X_train)\n",
    "    X_test = sc.transform(X_test)\n",
    "    \n",
    "    #Random Forest model\n",
    "    clf = RandomForestClassifier(n_estimators=750,\n",
    "    random_state=1337,\n",
    "    max_depth=25,\n",
    "    min_samples_leaf=1, class_weight='balanced_subsample' )\n",
    "    \n",
    "    #Fit and Predict using RF model\n",
    "    clf.fit(X_train, y_train)\n",
    "    y_pred = clf.predict(X_test)\n",
    "    y_preds = y_pred\n",
    "    y_tests = y_test\n",
    "    #Print Accuracy Score\n",
    "    print('Completed LOOCV for Subject ', +  subject)\n",
    "    \n",
    "    LOOCV_accuracy.append(accuracy_score(y_test, y_pred))\n",
    "    LOOCV_f1.append(f1_score(y_test, y_pred,average='weighted'))\n",
    "    \n",
    "    LOOCV_accuracy"
   ]
  },
  {
   "cell_type": "code",
   "execution_count": null,
   "metadata": {},
   "outputs": [],
   "source": [
    "LOOCV_accuracy"
   ]
  },
  {
   "cell_type": "code",
   "execution_count": null,
   "metadata": {},
   "outputs": [],
   "source": [
    "df"
   ]
  },
  {
   "cell_type": "code",
   "execution_count": null,
   "metadata": {},
   "outputs": [],
   "source": [
    "for i in [ 'downstairs',  'upstairs', 'walking', 'sitting']:\n",
    "  data_df = df[(df['subject_id'] == 3) & (df['label'] == i)]\n",
    "  plt.figure(figsize = (10, 3))\n",
    "  sns.lineplot(y = 'acc_x', x = 'datetime', data = data_df)\n",
    "  sns.lineplot(y = 'acc_y', x = 'datetime', data = data_df)\n",
    "  sns.lineplot(y = 'acc_z', x = 'datetime', data = data_df)\n",
    "  plt.legend(['x-axis', 'y-axis', 'z-axis'])\n",
    "  plt.ylabel(i)\n",
    "  plt.title(i, fontsize = 15)\n",
    "  plt.show()"
   ]
  },
  {
   "cell_type": "code",
   "execution_count": null,
   "metadata": {},
   "outputs": [],
   "source": [
    "for i in [ 'downstairs',  'upstairs', 'walking', 'sitting']:\n",
    "  data_df = df[(df['subject_id'] == 6) & (df['label'] == i)]\n",
    "  plt.figure(figsize = (10, 3))\n",
    "  sns.lineplot(y = 'acc_x', x = 'datetime', data = data_df)\n",
    "  sns.lineplot(y = 'acc_y', x = 'datetime', data = data_df)\n",
    "  sns.lineplot(y = 'acc_z', x = 'datetime', data = data_df)\n",
    "  plt.legend(['x-axis', 'y-axis', 'z-axis'])\n",
    "  plt.ylabel(i)\n",
    "  plt.title(i, fontsize = 15)\n",
    "  plt.show()"
   ]
  },
  {
   "cell_type": "code",
   "execution_count": null,
   "metadata": {},
   "outputs": [],
   "source": [
    "for i in [ 'downstairs',  'upstairs', 'walking', 'sitting']:\n",
    "  data_df = df[(df['subject_id'] == 8) & (df['label'] == i)]\n",
    "  plt.figure(figsize = (10, 3))\n",
    "  sns.lineplot(y = 'acc_x', x = 'datetime', data = data_df)\n",
    "  sns.lineplot(y = 'acc_y', x = 'datetime', data = data_df)\n",
    "  sns.lineplot(y = 'acc_z', x = 'datetime', data = data_df)\n",
    "  plt.legend(['x-axis', 'y-axis', 'z-axis'])\n",
    "  plt.ylabel(i)\n",
    "  plt.title(i, fontsize = 15)\n",
    "  plt.show()"
   ]
  },
  {
   "cell_type": "code",
   "execution_count": null,
   "metadata": {},
   "outputs": [],
   "source": [
    "for i in [ 'downstairs',  'upstairs', 'walking', 'sitting']:\n",
    "  data_df = df[(df['subject_id'] == 7) & (df['label'] == i)]\n",
    "  plt.figure(figsize = (10, 3))\n",
    "  sns.lineplot(y = 'acc_x', x = 'datetime', data = data_df)\n",
    "  sns.lineplot(y = 'acc_y', x = 'datetime', data = data_df)\n",
    "  sns.lineplot(y = 'acc_z', x = 'datetime', data = data_df)\n",
    "  plt.legend(['x-axis', 'y-axis', 'z-axis'])\n",
    "  plt.ylabel(i)\n",
    "  plt.title(i, fontsize = 15)\n",
    "  plt.show()"
   ]
  },
  {
   "cell_type": "code",
   "execution_count": null,
   "metadata": {},
   "outputs": [],
   "source": [
    "\n"
   ]
  },
  {
   "cell_type": "code",
   "execution_count": null,
   "metadata": {},
   "outputs": [],
   "source": [
    "df3 = df.copy()\n",
    "df3['Magnitude'] = np.sqrt(df3['acc_x']**2 + df3['acc_y']**2 + df3['acc_z']**2)\n",
    "df3['Magnitude']\n",
    "df3"
   ]
  },
  {
   "cell_type": "code",
   "execution_count": null,
   "metadata": {},
   "outputs": [],
   "source": [
    "for i in [ 'downstairs',  'upstairs', 'walking', 'sitting']:\n",
    "  data_df = df3[(df3['subject_id'] == 8) & (df3['label'] == i)]\n",
    "  plt.figure(figsize = (10, 3))\n",
    "  sns.lineplot(y = 'Magnitude', x = 'datetime', data = data_df)\n",
    "\n",
    "#   plt.legend(['x-axis', 'y-axis', 'z-axis'])\n",
    "  plt.ylabel(i)\n",
    "  plt.title(i, fontsize = 15)\n",
    "  plt.show()"
   ]
  },
  {
   "cell_type": "code",
   "execution_count": null,
   "metadata": {},
   "outputs": [],
   "source": [
    "for i in [ 'downstairs',  'upstairs', 'walking', 'sitting']:\n",
    "  data_df = df3[(df3['subject_id'] == 3) & (df3['label'] == i)]\n",
    "  plt.figure(figsize = (10, 3))\n",
    "  sns.lineplot(y = 'Magnitude', x = 'datetime', data = data_df)\n",
    "\n",
    "#   plt.legend(['x-axis', 'y-axis', 'z-axis'])\n",
    "  plt.ylabel(i)\n",
    "  plt.title(i, fontsize = 15)\n",
    "  plt.show()"
   ]
  },
  {
   "cell_type": "code",
   "execution_count": null,
   "metadata": {},
   "outputs": [],
   "source": [
    "for i in [ 'downstairs',  'upstairs', 'walking', 'sitting']:\n",
    "  data_df = df3[(df3['subject_id'] == 7) & (df3['label'] == i)]\n",
    "  plt.figure(figsize = (10, 3))\n",
    "  sns.lineplot(y = 'Magnitude', x = 'datetime', data = data_df)\n",
    "\n",
    "#   plt.legend(['x-axis', 'y-axis', 'z-axis'])\n",
    "  plt.ylabel(i)\n",
    "  plt.title(i, fontsize = 15)\n",
    "  plt.show()"
   ]
  },
  {
   "cell_type": "code",
   "execution_count": null,
   "metadata": {},
   "outputs": [],
   "source": [
    "for i in [ 'downstairs',  'upstairs', 'walking', 'sitting']:\n",
    "  data_df = df3[(df3['subject_id'] == 6) & (df3['label'] == i)]\n",
    "  plt.figure(figsize = (10, 3))\n",
    "  sns.lineplot(y = 'Magnitude', x = 'datetime', data = data_df)\n",
    "\n",
    "#   plt.legend(['x-axis', 'y-axis', 'z-axis'])\n",
    "  plt.ylabel(i)\n",
    "  plt.title(i, fontsize = 15)\n",
    "  plt.show()"
   ]
  },
  {
   "cell_type": "code",
   "execution_count": null,
   "metadata": {},
   "outputs": [],
   "source": [
    "sns.set_palette(\"Set1\", desat = 0.80)\n",
    "facetgrid = sns.FacetGrid(df3, hue = \"label\", size = 6, aspect=2)\n",
    "facetgrid.map(sns.distplot, 'Magnitude', hist=False).add_legend()\n",
    "plt.show()"
   ]
  },
  {
   "cell_type": "code",
   "execution_count": null,
   "metadata": {},
   "outputs": [],
   "source": [
    "plt.figure(figsize=(7,7))\n",
    "sns.boxplot(x = 'label', y = 'Magnitude', data = df3, showfliers = False, saturation=1)\n",
    "plt.show()\n"
   ]
  },
  {
   "cell_type": "code",
   "execution_count": null,
   "metadata": {},
   "outputs": [],
   "source": [
    "gpdf3['Magnitude'] = np.sqrt(gpdf3['acc_x']**2 + gpdf3['acc_y']**2 + gpdf3['acc_z']**2)\n",
    "gpdf3"
   ]
  },
  {
   "cell_type": "code",
   "execution_count": null,
   "metadata": {},
   "outputs": [],
   "source": [
    "gpdf6['Magnitude'] = np.sqrt(gpdf6['acc_x']**2 + gpdf6['acc_y']**2 + gpdf6['acc_z']**2)\n",
    "gpdf6"
   ]
  },
  {
   "cell_type": "code",
   "execution_count": null,
   "metadata": {},
   "outputs": [],
   "source": [
    "gpdf7['Magnitude'] = np.sqrt(gpdf7['acc_x']**2 + gpdf7['acc_y']**2 + gpdf7['acc_z']**2)\n",
    "gpdf8['Magnitude'] = np.sqrt(gpdf8['acc_x']**2 + gpdf8['acc_y']**2 + gpdf8['acc_z']**2)\n",
    "\n"
   ]
  },
  {
   "cell_type": "code",
   "execution_count": null,
   "metadata": {},
   "outputs": [],
   "source": [
    "gpdf3[['Magnitude']].plot(subplots=True, figsize=(33, 10))\n",
    "gpdf6[['Magnitude']].plot(subplots=True, figsize=(33, 10))\n",
    "gpdf7[['Magnitude']].plot(subplots=True, figsize=(33, 10))\n",
    "gpdf8[['Magnitude']].plot(subplots=True, figsize=(33, 10))\n"
   ]
  },
  {
   "cell_type": "code",
   "execution_count": null,
   "metadata": {},
   "outputs": [],
   "source": [
    "moving Variance\n",
    "model prediction"
   ]
  }
 ],
 "metadata": {
  "interpreter": {
   "hash": "6898f2adeffe98af97a1b72d24de202e0fc9362a1c4c113efdf473103d78a803"
  },
  "kernelspec": {
   "display_name": "Python 3.9.7 64-bit",
   "language": "python",
   "name": "python3"
  },
  "language_info": {
   "codemirror_mode": {
    "name": "ipython",
    "version": 3
   },
   "file_extension": ".py",
   "mimetype": "text/x-python",
   "name": "python",
   "nbconvert_exporter": "python",
   "pygments_lexer": "ipython3",
   "version": "3.9.7"
  },
  "orig_nbformat": 4
 },
 "nbformat": 4,
 "nbformat_minor": 2
}
